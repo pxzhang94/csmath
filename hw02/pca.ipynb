{
 "cells": [
  {
   "cell_type": "code",
   "execution_count": 1,
   "metadata": {},
   "outputs": [
    {
     "data": {
      "text/plain": [
       "'\\n * @Author: 11921006 Peixin Zhang \\n * @Date: 2019-05-27\\n'"
      ]
     },
     "execution_count": 1,
     "metadata": {},
     "output_type": "execute_result"
    }
   ],
   "source": [
    "'''\n",
    " * @Author: 11921006 Peixin Zhang \n",
    " * @Date: 2019-05-27\n",
    "'''"
   ]
  },
  {
   "cell_type": "code",
   "execution_count": 2,
   "metadata": {
    "collapsed": true
   },
   "outputs": [],
   "source": [
    "import tensorflow as tf\n",
    "import numpy as np\n",
    "import matplotlib.pyplot as plt"
   ]
  },
  {
   "cell_type": "code",
   "execution_count": 3,
   "metadata": {
    "collapsed": true
   },
   "outputs": [],
   "source": [
    "txt = []\n",
    "with open('optdigits-orig.tra', 'r') as fr:\n",
    "        for line in fr.readlines():\n",
    "            for ch in line.strip():\n",
    "                if str(ch).isdigit():\n",
    "                    txt.append(int(ch))"
   ]
  },
  {
   "cell_type": "code",
   "execution_count": 4,
   "metadata": {},
   "outputs": [
    {
     "name": "stdout",
     "output_type": "stream",
     "text": [
      "txt length:1982350\n"
     ]
    }
   ],
   "source": [
    "print('txt length:%d' % len(txt))"
   ]
  },
  {
   "cell_type": "code",
   "execution_count": 5,
   "metadata": {
    "collapsed": true
   },
   "outputs": [],
   "source": [
    "digits = np.reshape(txt, (-1, 1025))"
   ]
  },
  {
   "cell_type": "code",
   "execution_count": 6,
   "metadata": {},
   "outputs": [
    {
     "name": "stdout",
     "output_type": "stream",
     "text": [
      "digits.shape: (1934, 1025)\n"
     ]
    }
   ],
   "source": [
    "print('digits.shape: %s' %(digits.shape,))"
   ]
  },
  {
   "cell_type": "code",
   "execution_count": 7,
   "metadata": {
    "collapsed": true
   },
   "outputs": [],
   "source": [
    "filt = np.array([row[-1] == 3 for row in digits])"
   ]
  },
  {
   "cell_type": "code",
   "execution_count": 8,
   "metadata": {
    "collapsed": true
   },
   "outputs": [],
   "source": [
    "three = digits[filt]"
   ]
  },
  {
   "cell_type": "code",
   "execution_count": 9,
   "metadata": {
    "collapsed": true
   },
   "outputs": [],
   "source": [
    "trunc_three = np.delete(three, -1, 1)"
   ]
  },
  {
   "cell_type": "code",
   "execution_count": 10,
   "metadata": {},
   "outputs": [
    {
     "name": "stdout",
     "output_type": "stream",
     "text": [
      "trunc_three.shape: (199, 1024)\n"
     ]
    }
   ],
   "source": [
    "print('trunc_three.shape: %s' %(trunc_three.shape,))"
   ]
  },
  {
   "cell_type": "code",
   "execution_count": 11,
   "metadata": {
    "collapsed": true
   },
   "outputs": [],
   "source": [
    "mean = np.mean(trunc_three, axis=0)"
   ]
  },
  {
   "cell_type": "code",
   "execution_count": 12,
   "metadata": {},
   "outputs": [
    {
     "name": "stdout",
     "output_type": "stream",
     "text": [
      "mean.shape: (1024,)\n"
     ]
    }
   ],
   "source": [
    "print('mean.shape: %s' %(mean.shape,))"
   ]
  },
  {
   "cell_type": "code",
   "execution_count": 13,
   "metadata": {
    "collapsed": true
   },
   "outputs": [],
   "source": [
    "norm_three = np.subtract(trunc_three, mean)"
   ]
  },
  {
   "cell_type": "code",
   "execution_count": 14,
   "metadata": {},
   "outputs": [
    {
     "name": "stdout",
     "output_type": "stream",
     "text": [
      "norm_three.shape: (199, 1024)\n"
     ]
    }
   ],
   "source": [
    "print('norm_three.shape: %s' %(norm_three.shape,))"
   ]
  },
  {
   "cell_type": "code",
   "execution_count": 15,
   "metadata": {
    "collapsed": true
   },
   "outputs": [],
   "source": [
    "covariance = np.matmul(norm_three.transpose(), norm_three)"
   ]
  },
  {
   "cell_type": "code",
   "execution_count": 16,
   "metadata": {},
   "outputs": [
    {
     "name": "stdout",
     "output_type": "stream",
     "text": [
      "covariance.shape: (1024, 1024)\n"
     ]
    }
   ],
   "source": [
    "print('covariance.shape: %s' %(covariance.shape,))"
   ]
  },
  {
   "cell_type": "code",
   "execution_count": 17,
   "metadata": {
    "collapsed": true
   },
   "outputs": [],
   "source": [
    "u, d, vh = np.linalg.svd(covariance, full_matrices=True)"
   ]
  },
  {
   "cell_type": "code",
   "execution_count": 18,
   "metadata": {},
   "outputs": [
    {
     "name": "stdout",
     "output_type": "stream",
     "text": [
      "u.shape: (1024, 1024)\n"
     ]
    }
   ],
   "source": [
    "print(\"u.shape: %s\" %(u.shape,))"
   ]
  },
  {
   "cell_type": "code",
   "execution_count": 19,
   "metadata": {
    "collapsed": true
   },
   "outputs": [],
   "source": [
    "u2 = u[: , : 2]"
   ]
  },
  {
   "cell_type": "code",
   "execution_count": 20,
   "metadata": {
    "collapsed": true
   },
   "outputs": [],
   "source": [
    "trans_three = np.matmul(norm_three, u2)"
   ]
  },
  {
   "cell_type": "code",
   "execution_count": 21,
   "metadata": {},
   "outputs": [
    {
     "name": "stdout",
     "output_type": "stream",
     "text": [
      "trans_three.shape: (199, 2)\n"
     ]
    }
   ],
   "source": [
    "print('trans_three.shape: %s' %(trans_three.shape,))"
   ]
  },
  {
   "cell_type": "code",
   "execution_count": 22,
   "metadata": {},
   "outputs": [
    {
     "data": {
      "image/png": "[encoded data removed]",
      "text/plain": [
       "<matplotlib.figure.Figure at 0x115d0fb38>"
      ]
     },
     "metadata": {},
     "output_type": "display_data"
    }
   ],
   "source": [
    "X1 = [-9,9]\n",
    "Y1 = [0,0]\n",
    "X2 = [0,0]\n",
    "Y2 = [-9,9]\n",
    "plt.plot(trans_three[:, 0],trans_three[:, 1],'ro',label = 'Digital_3')\n",
    "plt.plot(X1,Y1,'k-')\n",
    "plt.plot(X2,Y2,'k-')\n",
    "plt.xlabel(\"Principal Component 1\")\n",
    "plt.ylabel(\"Principal Component 2\")\n",
    "plt.title(\"PCA\")\n",
    "plt.xlim(-8,8)\n",
    "plt.ylim(-8,8)\n",
    "plt.grid()\n",
    "plt.legend()\n",
    "plt.savefig('PCA_digital_3.png')\n",
    "plt.show()"
   ]
  },
  {
   "cell_type": "code",
   "execution_count": 23,
   "metadata": {
    "collapsed": true
   },
   "outputs": [],
   "source": [
    "fig, axs = plt.subplots(1, 3)\n",
    "plt.yticks([])\n",
    "axs[0].imshow(np.reshape(trunc_three[0, :], (32, 32)), cmap='gray')\n",
    "axs[1].imshow(np.reshape(u2[:, 0], (32, 32)), cmap='gray')\n",
    "axs[2].imshow(np.reshape(u2[:, 1], (32, 32)), cmap='gray')\n",
    "axs[0].set_xlabel('Origin Image', fontsize=10)     \n",
    "axs[1].set_xlabel('Principal Component 1', fontsize=10)\n",
    "axs[2].set_xlabel('Principal Component 2', fontsize=10)\n",
    "fig.savefig('eigenvector.png')"
   ]
  },
  {
   "cell_type": "code",
   "execution_count": 24,
   "metadata": {},
   "outputs": [],
   "source": [
    "fig, axs = plt.subplots(5, 5)\n",
    "plt.yticks([])\n",
    "for i in range(5):\n",
    "    for j in range(5):\n",
    "        axs[i, j].imshow(np.reshape(trunc_three[i * 5 + j, :], (32, 32)), cmap='gray')\n",
    "fig.savefig('first25.png')"
   ]
  },
  {
   "cell_type": "code",
   "execution_count": null,
   "metadata": {
    "collapsed": true
   },
   "outputs": [],
   "source": []
  }
 ],
 "metadata": {
  "kernelspec": {
   "display_name": "Python 3",
   "language": "python",
   "name": "python3"
  },
  "language_info": {
   "codemirror_mode": {
    "name": "ipython",
    "version": 3
   },
   "file_extension": ".py",
   "mimetype": "text/x-python",
   "name": "python",
   "nbconvert_exporter": "python",
   "pygments_lexer": "ipython3",
   "version": "3.6.1"
  }
 },
 "nbformat": 4,
 "nbformat_minor": 2
}
